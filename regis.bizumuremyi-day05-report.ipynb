{
 "cells": [
  {
   "cell_type": "markdown",
   "id": "broke-perception",
   "metadata": {},
   "source": [
    "# Qn1"
   ]
  },
  {
   "cell_type": "code",
   "execution_count": 28,
   "id": "approximate-brand",
   "metadata": {},
   "outputs": [
    {
     "name": "stdout",
     "output_type": "stream",
     "text": [
      "enter a natural number : 5\n",
      "10\n"
     ]
    }
   ],
   "source": [
    "# i)\n",
    "\n",
    "number=int(input(\"enter a natural number : \"))\n",
    "sum=0\n",
    "\n",
    "for i in range(number):\n",
    "    if i%2!=0:\n",
    "        sum=sum+i+3\n",
    "print(sum)\n",
    "    \n",
    "            \n",
    "    "
   ]
  },
  {
   "cell_type": "code",
   "execution_count": 29,
   "id": "indie-ecology",
   "metadata": {},
   "outputs": [
    {
     "name": "stdout",
     "output_type": "stream",
     "text": [
      "enter a natural number : 5\n",
      "105\n"
     ]
    }
   ],
   "source": [
    "# ii) \n",
    "\n",
    "number=int(input(\"enter a natural number : \"))\n",
    "product=1\n",
    "\n",
    "for i in range(number):\n",
    "    if i%2==0:\n",
    "        product=product*(i+3)\n",
    "print(product)"
   ]
  },
  {
   "cell_type": "markdown",
   "id": "starting-civilization",
   "metadata": {},
   "source": [
    "# Qn 2"
   ]
  },
  {
   "cell_type": "code",
   "execution_count": 27,
   "id": "welsh-forward",
   "metadata": {},
   "outputs": [
    {
     "name": "stdout",
     "output_type": "stream",
     "text": [
      "Monday\n",
      "Tuesday\n",
      "Wensday\n",
      "Thursday\n",
      "Friday\n",
      "Weekend\n",
      "Weekend\n"
     ]
    }
   ],
   "source": [
    "for i in range(7):\n",
    "   if i==0:\n",
    "    print(\"Monday\")\n",
    "   elif i == 1:\n",
    "    print(\"Tuesday\")\n",
    "   elif i==2:\n",
    "    print(\"Wensday\")\n",
    "   elif i==3:\n",
    "    print(\"Thursday\")\n",
    "   elif i==4:\n",
    "    print(\"Friday\")\n",
    "   else:\n",
    "    print(\"Weekend\")\n",
    "     "
   ]
  },
  {
   "cell_type": "markdown",
   "id": "regular-firewall",
   "metadata": {},
   "source": [
    "# Qn3"
   ]
  },
  {
   "cell_type": "code",
   "execution_count": 35,
   "id": "legal-sugar",
   "metadata": {},
   "outputs": [
    {
     "name": "stdout",
     "output_type": "stream",
     "text": [
      "0 Month has 31 day\n",
      "1 Month has 28 day\n",
      "2 Month has 31 day\n",
      "3 Month has 30 day\n",
      "4 Month has 31 day\n",
      "5 Month has 30 day\n",
      "6 Month has 31 day\n",
      "7 Month has 31 day\n",
      "8 Month has 30 day\n",
      "9 Month has 31 day\n",
      "10 Month has 30 day\n",
      "11 Month has 31 day\n"
     ]
    }
   ],
   "source": [
    "month_number= list(range(12))\n",
    "for i in month_number:\n",
    "    if i in [0,2,4,6,7,9,11]:\n",
    "        print(i,\"Month has 31 day\")\n",
    "    elif i in [3,5,8,10]:\n",
    "        print(i, \"Month has 30 day\")\n",
    "    else:\n",
    "        print(i,\"Month has 28 day\")"
   ]
  },
  {
   "cell_type": "markdown",
   "id": "behavioral-bobby",
   "metadata": {},
   "source": [
    "# Qn4  "
   ]
  },
  {
   "cell_type": "code",
   "execution_count": 36,
   "id": "tribal-tobago",
   "metadata": {},
   "outputs": [
    {
     "name": "stdout",
     "output_type": "stream",
     "text": [
      "Regis BIZUMUREMYI\n",
      "Regis BIZUMUREMYI\n",
      "Regis BIZUMUREMYI\n"
     ]
    }
   ],
   "source": [
    "# 1) using for loop\n",
    "for i in range(3):\n",
    "    print(\"Regis BIZUMUREMYI\")"
   ]
  },
  {
   "cell_type": "code",
   "execution_count": 37,
   "id": "higher-heavy",
   "metadata": {},
   "outputs": [
    {
     "name": "stdout",
     "output_type": "stream",
     "text": [
      "Regis BIZUMUREMYI\n",
      "Regis BIZUMUREMYI\n",
      "Regis BIZUMUREMYI\n"
     ]
    }
   ],
   "source": [
    "# 2) USING WHILE LOOP\n",
    "i=0\n",
    "while i < 3:\n",
    "    print(\"Regis BIZUMUREMYI\")\n",
    "    i=i+1"
   ]
  },
  {
   "cell_type": "markdown",
   "id": "chief-connectivity",
   "metadata": {},
   "source": [
    "# Qn5"
   ]
  },
  {
   "cell_type": "code",
   "execution_count": 50,
   "id": "approved-castle",
   "metadata": {},
   "outputs": [
    {
     "name": "stdout",
     "output_type": "stream",
     "text": [
      "enter first number: 1\n",
      "enter second number: 1\n",
      "[1, 1, 2, 3, 5, 8, 13, 21, 34, 55, 89, 144, 233, 377, 610]\n"
     ]
    }
   ],
   "source": [
    "x_0= int(input(\"enter first number: \"))\n",
    "x_1= int(input(\"enter second number: \"))\n",
    "lis=[x_0,x_1]\n",
    "for i in range(1,14):\n",
    "    x=lis[-1]+lis[-2]\n",
    "    lis.append(x)\n",
    "print(lis)"
   ]
  },
  {
   "cell_type": "markdown",
   "id": "alien-quarter",
   "metadata": {},
   "source": [
    "# Qn6"
   ]
  },
  {
   "cell_type": "code",
   "execution_count": 52,
   "id": "handmade-network",
   "metadata": {},
   "outputs": [
    {
     "name": "stdout",
     "output_type": "stream",
     "text": [
      "enter first number: 2\n",
      "enter second number: 3\n",
      "[2, 3, 7.5, 12.75, 28.875, 52.6875, 112.96875, 214.546875, 446.1796875, 866.73046875, 1771.904296875, 3486.1435546875, 7058.78466796875, 13987.822998046875, 28170.265502929688, 56048.60174560547, 112535.0973815918, 224413.3539276123, 449811.96910858154, 898146.0463371277, 1798508.9304943085, 3593692.6042585373, 7192373.093612194, 14377264.359581709, 28765751.460627437, 57514668.809058845, 115054588.78641173, 230071300.82038242, 460199416.76942635, 920313610.8458605, 1840755055.7312093, 3681318360.403186, 7362924347.395222, 14725417254.907167, 29451481669.639248]\n"
     ]
    }
   ],
   "source": [
    "x_0= int(input(\"enter first number: \"))\n",
    "x_1= int(input(\"enter second number: \"))\n",
    "lis=[x_0,x_1]\n",
    "for i in range(1,34):\n",
    "    x=(1/2)*lis[-1]+3*lis[-2]\n",
    "    lis.append(x)\n",
    "print(lis)"
   ]
  },
  {
   "cell_type": "markdown",
   "id": "adjacent-honey",
   "metadata": {},
   "source": [
    "# Qn7"
   ]
  },
  {
   "cell_type": "code",
   "execution_count": 59,
   "id": "continued-bracelet",
   "metadata": {},
   "outputs": [
    {
     "name": "stdout",
     "output_type": "stream",
     "text": [
      "enter any year : 2001\n",
      "2001 is not leap year\n"
     ]
    }
   ],
   "source": [
    "# a)to determine whether or not a year is a leap year.\n",
    "year = int(input(\"enter any year : \"))\n",
    "if year%4==0:\n",
    "    if year%100!=0:\n",
    "        if year%400==0:\n",
    "            print()\n",
    "        print()\n",
    "    print(year,\"is a leap year\")\n",
    "else:\n",
    "    print(year, \"is not leap year\")\n",
    "        \n"
   ]
  },
  {
   "cell_type": "code",
   "execution_count": 69,
   "id": "received-exhibit",
   "metadata": {},
   "outputs": [
    {
     "name": "stdout",
     "output_type": "stream",
     "text": [
      "enter any year : 2004\n",
      "2004 is a leap year\n"
     ]
    }
   ],
   "source": [
    "# b) the code using only logical operators,\n",
    "\n",
    "year = int(input(\"enter any year : \"))\n",
    "if ((year%4==0)&(year%100!=0))|(year%400==0):\n",
    "    print(year,\"is a leap year\")\n",
    "else:\n",
    "    print(year, \"is not leap year\")"
   ]
  },
  {
   "cell_type": "markdown",
   "id": "conceptual-parent",
   "metadata": {},
   "source": [
    "# Qn8"
   ]
  },
  {
   "cell_type": "code",
   "execution_count": 73,
   "id": "welcome-ensemble",
   "metadata": {},
   "outputs": [
    {
     "name": "stdout",
     "output_type": "stream",
     "text": [
      "enter an natural number5\n",
      "5 its sum is  15\n"
     ]
    }
   ],
   "source": [
    "# a.1)for loop \n",
    "sum=0\n",
    "first_natural_number= int(input(\"enter  natural number: \"))\n",
    "for i in range(first_natural_number+1):\n",
    "    sum= sum+i\n",
    "print(first_natural_number ,\"its sum is \",sum)"
   ]
  },
  {
   "cell_type": "code",
   "execution_count": 98,
   "id": "arctic-nutrition",
   "metadata": {},
   "outputs": [
    {
     "name": "stdout",
     "output_type": "stream",
     "text": [
      "enter an natural number: 5\n",
      "15\n"
     ]
    }
   ],
   "source": [
    "# a.2) while loop\n",
    "first_natural_number= int(input(\"enter an natural number: \"))\n",
    "sum=0\n",
    "n=0\n",
    "while n<=first_natural_number:\n",
    "    sum=sum +n\n",
    "    n=n+1\n",
    "print(sum)\n"
   ]
  },
  {
   "cell_type": "markdown",
   "id": "overall-pittsburgh",
   "metadata": {},
   "source": [
    "# Qn9"
   ]
  },
  {
   "cell_type": "code",
   "execution_count": 106,
   "id": "outdoor-executive",
   "metadata": {},
   "outputs": [
    {
     "name": "stdout",
     "output_type": "stream",
     "text": [
      "enter the natural number M : 5\n",
      "enter the smallest natural number: 4\n",
      "0 sum 1**2 + 2**2 +· · ·+n**2 < M.\n",
      "1 sum 1**2 + 2**2 +· · ·+n**2 < M.\n",
      "5 sum 1**2 + 2**2 +· · ·+n**2 >= M.\n",
      "14 sum 1**2 + 2**2 +· · ·+n**2 >= M.\n",
      "30 sum 1**2 + 2**2 +· · ·+n**2 >= M.\n"
     ]
    }
   ],
   "source": [
    "# for loop \n",
    "sum=0\n",
    "natural_number_M=int(input(\"enter the natural number M : \"))\n",
    "smallest_natural_number= int(input(\"enter the smallest natural number: \"))\n",
    "for i in range(smallest_natural_number+1):\n",
    "    sum= sum+i**2\n",
    "    if sum>=natural_number_M:\n",
    "        print(sum,\"sum 1**2 + 2**2 +· · ·+n**2 >= M.\")\n",
    "    else:\n",
    "        print( sum,\"sum 1**2 + 2**2 +· · ·+n**2 < M.\")\n",
    "        "
   ]
  },
  {
   "cell_type": "code",
   "execution_count": 107,
   "id": "professional-algeria",
   "metadata": {},
   "outputs": [
    {
     "name": "stdout",
     "output_type": "stream",
     "text": [
      "enter the natural number M : 5\n",
      "enter the smallest natural number: 4\n",
      "0 sum 1**2 + 2**2 +· · ·+n**2 < M.\n",
      "1 sum 1**2 + 2**2 +· · ·+n**2 < M.\n",
      "3 sum 1**2 + 2**2 +· · ·+n**2 < M.\n",
      "6 sum 1**2 + 2**2 +· · ·+n**2 >= M.\n",
      "10 sum 1**2 + 2**2 +· · ·+n**2 >= M.\n",
      "15 sum 1**2 + 2**2 +· · ·+n**2 >= M.\n"
     ]
    }
   ],
   "source": [
    "# while loop\n",
    "sum=0\n",
    "n=0\n",
    "natural_number_M=int(input(\"enter the natural number M : \"))\n",
    "smallest_natural_number= int(input(\"enter the smallest natural number: \"))\n",
    "while n<=first_natural_number:\n",
    "    sum=sum +n\n",
    "    if sum>=natural_number_M:\n",
    "         print(sum,\"sum 1**2 + 2**2 +· · ·+n**2 >= M.\")\n",
    "    else:\n",
    "        print( sum,\"sum 1**2 + 2**2 +· · ·+n**2 < M.\")\n",
    "    n=n+1\n"
   ]
  },
  {
   "cell_type": "markdown",
   "id": "norman-atlantic",
   "metadata": {},
   "source": [
    "# Qn 10"
   ]
  },
  {
   "cell_type": "code",
   "execution_count": 108,
   "id": "disabled-niger",
   "metadata": {},
   "outputs": [
    {
     "name": "stdout",
     "output_type": "stream",
     "text": [
      "enter a number : 4\n",
      "0 is divisor of  4\n",
      "4 is divisor of  4\n",
      "8 is divisor of  4\n",
      "12 is divisor of  4\n",
      "16 is divisor of  4\n",
      "20 is divisor of  4\n",
      "24 is divisor of  4\n",
      "28 is divisor of  4\n",
      "32 is divisor of  4\n",
      "36 is divisor of  4\n",
      "40 is divisor of  4\n",
      "44 is divisor of  4\n",
      "48 is divisor of  4\n",
      "52 is divisor of  4\n",
      "56 is divisor of  4\n",
      "60 is divisor of  4\n",
      "64 is divisor of  4\n",
      "68 is divisor of  4\n",
      "72 is divisor of  4\n",
      "76 is divisor of  4\n",
      "80 is divisor of  4\n",
      "84 is divisor of  4\n",
      "88 is divisor of  4\n",
      "92 is divisor of  4\n",
      "96 is divisor of  4\n"
     ]
    }
   ],
   "source": [
    "natural_num= int(input(\"enter a number : \"))\n",
    "for i in range(100):\n",
    "    if i%natural_num==0:\n",
    "        print(i,\"is divisor of \", natural_num)"
   ]
  },
  {
   "cell_type": "code",
   "execution_count": 109,
   "id": "collectible-formation",
   "metadata": {},
   "outputs": [
    {
     "name": "stdout",
     "output_type": "stream",
     "text": [
      "enter a number : 5\n",
      "5 has this prime factor 5\n",
      "5 has this prime factor 4\n",
      "5 has this prime factor 3\n",
      "5 has this prime factor 2\n",
      "5 has this prime factor 1\n"
     ]
    }
   ],
   "source": [
    "# b) \n",
    "natural_num= int(input(\"enter a number : \"))\n",
    "for i in range(1,natural_num+1):\n",
    "    print(natural_num,\"has this prime factor\",n-i)"
   ]
  },
  {
   "cell_type": "markdown",
   "id": "sapphire-telephone",
   "metadata": {},
   "source": [
    "# Qn11"
   ]
  },
  {
   "cell_type": "code",
   "execution_count": 111,
   "id": "balanced-while",
   "metadata": {},
   "outputs": [
    {
     "name": "stdout",
     "output_type": "stream",
     "text": [
      "enter a number : 5\n",
      "5 x 0 = 0\n",
      "5 x 1 = 5\n",
      "5 x 2 = 10\n",
      "5 x 3 = 15\n",
      "5 x 4 = 20\n",
      "5 x 5 = 25\n",
      "5 x 6 = 30\n",
      "5 x 7 = 35\n",
      "5 x 8 = 40\n",
      "5 x 9 = 45\n"
     ]
    }
   ],
   "source": [
    "natural_num= int(input(\"enter a number : \"))\n",
    "for i in range(10):\n",
    "    product=natural_num*i\n",
    "    print(natural_num,\"x\",i,\"=\",product)"
   ]
  },
  {
   "cell_type": "code",
   "execution_count": null,
   "id": "blank-truth",
   "metadata": {},
   "outputs": [],
   "source": [
    "# "
   ]
  },
  {
   "cell_type": "code",
   "execution_count": 114,
   "id": "optimum-interview",
   "metadata": {},
   "outputs": [
    {
     "name": "stdout",
     "output_type": "stream",
     "text": [
      "0\n",
      "11\n",
      "21\n",
      "22\n",
      "33\n"
     ]
    }
   ],
   "source": [
    "for i in range(41):\n",
    "    if (i%3==0)&(i%7==0)|(i%11==0):\n",
    "        print(i)\n",
    "        "
   ]
  },
  {
   "cell_type": "code",
   "execution_count": null,
   "id": "alien-andrew",
   "metadata": {},
   "outputs": [],
   "source": []
  }
 ],
 "metadata": {
  "kernelspec": {
   "display_name": "Python 3",
   "language": "python",
   "name": "python3"
  },
  "language_info": {
   "codemirror_mode": {
    "name": "ipython",
    "version": 3
   },
   "file_extension": ".py",
   "mimetype": "text/x-python",
   "name": "python",
   "nbconvert_exporter": "python",
   "pygments_lexer": "ipython3",
   "version": "3.9.2"
  }
 },
 "nbformat": 4,
 "nbformat_minor": 5
}
